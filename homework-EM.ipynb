{
 "cells": [
  {
   "cell_type": "code",
   "execution_count": 11,
   "metadata": {},
   "outputs": [
    {
     "data": {
      "text/plain": [
       "(0.6392209047673038, 0.5569828230022406, 0.6762169404058951)"
      ]
     },
     "execution_count": 11,
     "metadata": {},
     "output_type": "execute_result"
    }
   ],
   "source": [
    "import numpy as np\n",
    "pi=0.64\n",
    "p=0.55\n",
    "q=0.67\n",
    "sample=[1,1,0,1,0,0,1,0,1,1]\n",
    "\n",
    "def EM(pi,p,q):\n",
    "    #E步\n",
    "    res_u=[]\n",
    "    for y in sample:\n",
    "        uper=pi*(p**y)*((1-p)**(1-y)) #分子代表选定B并进行一次投掷试验\n",
    "        downer=pi*(p**y)*((1-p)**(1-y)) + (1-pi)*(q**y)*((1-q)**(1-y)) #分母代表选定B或C并进行一次投掷试验\n",
    "        res_u.append(uper/downer)\n",
    "    #M步\n",
    "    N=10\n",
    "    pi_=0\n",
    "    p_up=0\n",
    "    p_donw=0\n",
    "    q_up=0\n",
    "    q_donw=0\n",
    "    for index,i in enumerate(res_u):\n",
    "        pi_+=i \n",
    "        p_up+=i*sample[index]\n",
    "        p_donw+=i \n",
    "        q_up+=(1-i)*sample[index]\n",
    "        q_donw+=(1-i)\n",
    "    pi=pi_/N\n",
    "    p=p_up/p_donw\n",
    "    q=q_up/q_donw\n",
    "    return pi,p,q #新一轮的开始\n",
    "pi,p,q=EM(pi,p,q)\n",
    "pi,p,q\n",
    "#新观测数据y来自硬币B的概率\n"
   ]
  },
  {
   "cell_type": "code",
   "execution_count": 12,
   "metadata": {},
   "outputs": [
    {
     "data": {
      "text/plain": [
       "(0.6392209047673038, 0.5569828230022406, 0.676216940405895)"
      ]
     },
     "execution_count": 12,
     "metadata": {},
     "output_type": "execute_result"
    }
   ],
   "source": [
    "pi,p,q=EM(pi,p,q)\n",
    "pi,p,q"
   ]
  },
  {
   "cell_type": "code",
   "execution_count": 48,
   "metadata": {},
   "outputs": [
    {
     "data": {
      "text/plain": [
       "(0.6392209047673038, 0.5569828230022406, 0.676216940405895)"
      ]
     },
     "execution_count": 48,
     "metadata": {},
     "output_type": "execute_result"
    }
   ],
   "source": [
    "pi,p,q=EM(pi,p,q)\n",
    "pi,p,q"
   ]
  },
  {
   "cell_type": "code",
   "execution_count": 9,
   "metadata": {},
   "outputs": [
    {
     "data": {
      "text/plain": [
       "(0.9336854436746146, 0.5824417129451119, 0.6985324673865687)"
      ]
     },
     "execution_count": 9,
     "metadata": {},
     "output_type": "execute_result"
    }
   ],
   "source": [
    "pi,p,q=EM(pi,p,q)\n",
    "pi,p,q"
   ]
  },
  {
   "cell_type": "code",
   "execution_count": 10,
   "metadata": {},
   "outputs": [
    {
     "data": {
      "text/plain": [
       "(1.026760977122257, 0.5923587653000615, 0.7070789842777113)"
      ]
     },
     "execution_count": 10,
     "metadata": {},
     "output_type": "execute_result"
    }
   ],
   "source": [
    "pi,p,q=EM(pi,p,q)\n",
    "pi,p,q"
   ]
  }
 ],
 "metadata": {
  "kernelspec": {
   "display_name": "base",
   "language": "python",
   "name": "python3"
  },
  "language_info": {
   "codemirror_mode": {
    "name": "ipython",
    "version": 3
   },
   "file_extension": ".py",
   "mimetype": "text/x-python",
   "name": "python",
   "nbconvert_exporter": "python",
   "pygments_lexer": "ipython3",
   "version": "3.9.16"
  },
  "orig_nbformat": 4
 },
 "nbformat": 4,
 "nbformat_minor": 2
}
