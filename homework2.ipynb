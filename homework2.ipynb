{
 "cells": [
  {
   "cell_type": "code",
   "execution_count": 1,
   "metadata": {},
   "outputs": [],
   "source": [
    "import numpy as np\n",
    "import pandas as pd"
   ]
  },
  {
   "cell_type": "code",
   "execution_count": 8,
   "metadata": {},
   "outputs": [],
   "source": [
    "x_p=[[0,0,0],[1,0,0],[1,0,1],[1,1,0]]\n",
    "x_p=np.array(x_p)\n",
    "x_n=[[0,0,1],[0,1,1],[0,1,0],[1,1,1]]\n",
    "x_n=np.array(x_n)\n",
    "lr=1"
   ]
  },
  {
   "cell_type": "code",
   "execution_count": 92,
   "metadata": {},
   "outputs": [],
   "source": [
    "x_a=np.append(x_p,x_n,axis=0)\n",
    "y_a=np.append(np.ones(len(x_p)),np.zeros(len(x_n))-1,axis=0)\n",
    "data_set=[x_a,y_a]"
   ]
  },
  {
   "cell_type": "code",
   "execution_count": 93,
   "metadata": {},
   "outputs": [
    {
     "data": {
      "text/plain": [
       "[array([[0, 0, 0],\n",
       "        [1, 0, 0],\n",
       "        [1, 0, 1],\n",
       "        [1, 1, 0],\n",
       "        [0, 0, 1],\n",
       "        [0, 1, 1],\n",
       "        [0, 1, 0],\n",
       "        [1, 1, 1]]),\n",
       " array([ 1.,  1.,  1.,  1., -1., -1., -1., -1.])]"
      ]
     },
     "execution_count": 93,
     "metadata": {},
     "output_type": "execute_result"
    }
   ],
   "source": [
    "data_set"
   ]
  },
  {
   "cell_type": "code",
   "execution_count": 136,
   "metadata": {},
   "outputs": [
    {
     "name": "stdout",
     "output_type": "stream",
     "text": [
      "###初始W:[0.63746054 0.91945681 0.7914972 ] | 初始b:0\n",
      "误分类数据集index如下：[4, 5, 6, 7]\n",
      "@@@ 随机取一个误分类点【5】x:[0 1 1] |y: -1.0\n",
      "@@@ w梯度[0. 1. 1.] | b梯度1.0\n",
      "误分类数据集index如下：[0, 1, 2, 3]\n",
      "@@@ 随机取一个误分类点【1】x:[1 0 0] |y: 1.0\n",
      "@@@ w梯度[-1. -0. -0.] | b梯度-1.0\n",
      "误分类数据集index如下：[7]\n",
      "@@@ 随机取一个误分类点【7】x:[1 1 1] |y: -1.0\n",
      "@@@ w梯度[1. 1. 1.] | b梯度1.0\n",
      "误分类数据集index如下：[0, 1, 2, 3]\n",
      "@@@ 随机取一个误分类点【2】x:[1 0 1] |y: 1.0\n",
      "@@@ w梯度[-1. -0. -1.] | b梯度-1.0\n",
      "误分类数据集index如下：[7]\n",
      "@@@ 随机取一个误分类点【7】x:[1 1 1] |y: -1.0\n",
      "@@@ w梯度[1. 1. 1.] | b梯度1.0\n",
      "误分类数据集index如下：[0, 1, 2, 3]\n",
      "@@@ 随机取一个误分类点【0】x:[0 0 0] |y: 1.0\n",
      "@@@ w梯度[-0. -0. -0.] | b梯度-1.0\n",
      "误分类数据集index如下：[2, 3]\n",
      "@@@ 随机取一个误分类点【3】x:[1 1 0] |y: 1.0\n",
      "@@@ w梯度[-1. -1. -0.] | b梯度-1.0\n",
      "误分类数据集index如下：[7]\n",
      "@@@ 随机取一个误分类点【7】x:[1 1 1] |y: -1.0\n",
      "@@@ w梯度[1. 1. 1.] | b梯度1.0\n",
      "误分类数据集index如下：[2, 3]\n",
      "@@@ 随机取一个误分类点【2】x:[1 0 1] |y: 1.0\n",
      "@@@ w梯度[-1. -0. -1.] | b梯度-1.0\n",
      "误分类数据集index如下：[]\n",
      "###最终W:[ 1.63746054 -2.08054319 -1.2085028 ] | 最终b:1.0\n"
     ]
    }
   ],
   "source": [
    "def sign(x):\n",
    "    if x>=0: return 1\n",
    "    else: return -1\n",
    "class perceptron(): #感知机\n",
    "    def __init__(self,lr=1):\n",
    "        self.lr=lr\n",
    "        #self.w=np.array([0,0,0])\n",
    "        #随机初始权值\n",
    "        self.w=np.random.rand(3)\n",
    "        self.b=0\n",
    "    def forward(self,x):\n",
    "        return sign(np.dot(self.w,x)+self.b)\n",
    "    def loss(self,x,y): #集合为误分类\n",
    "        return y*(np.dot(self.w,x)+self.b)\n",
    "    def update(self,x,y):\n",
    "        d_w=-y*x\n",
    "        d_b=-y\n",
    "        print(f\"@@@ w梯度{d_w} | b梯度{d_b}\")\n",
    "        self.w=self.w-self.lr*d_w\n",
    "        self.b=self.b-self.lr*d_b\n",
    "    def find_wrong(self,data_set):\n",
    "        wrong_index=[]\n",
    "        x=data_set[0]\n",
    "        y=data_set[1]\n",
    "        for i in range(len(data_set[1])): \n",
    "            p_y=self.forward(x[i])\n",
    "            if p_y!=y[i]:\n",
    "                wrong_index.append(i)\n",
    "        return wrong_index\n",
    "    def train(self,data_set):\n",
    "        x=data_set[0]\n",
    "        y=data_set[1]\n",
    "\n",
    "        wrong_index=[]\n",
    "        #找出误分类点\n",
    "        wrong_index=self.find_wrong(data_set)\n",
    "        print(f\"误分类数据集index如下：{wrong_index}\")\n",
    "        #随机取一个误分类点\n",
    "        rand_index=np.random.choice(wrong_index)\n",
    "        while wrong_index!=[]:\n",
    "            train_x=x[rand_index]\n",
    "            train_y=y[rand_index]\n",
    "            print(f\"@@@ 随机取一个误分类点【{rand_index}】x:{train_x} |y: {train_y}\")\n",
    "            #更新权值\n",
    "            self.update(train_x,train_y)\n",
    "\n",
    "            wrong_index=[]\n",
    "            #找出误分类点\n",
    "            wrong_index=self.find_wrong(data_set)\n",
    "            print(f\"误分类数据集index如下：{wrong_index}\")\n",
    "            if wrong_index==[]: break\n",
    "            rand_index=np.random.choice(wrong_index)\n",
    "\n",
    "test=perceptron(lr)\n",
    "print(f\"###初始W:{test.w} | 初始b:{test.b}\")\n",
    "test.train(data_set)\n",
    "print(f\"###最终W:{test.w} | 最终b:{test.b}\")\n"
   ]
  }
 ],
 "metadata": {
  "kernelspec": {
   "display_name": "base",
   "language": "python",
   "name": "python3"
  },
  "language_info": {
   "codemirror_mode": {
    "name": "ipython",
    "version": 3
   },
   "file_extension": ".py",
   "mimetype": "text/x-python",
   "name": "python",
   "nbconvert_exporter": "python",
   "pygments_lexer": "ipython3",
   "version": "3.9.16"
  },
  "orig_nbformat": 4,
  "vscode": {
   "interpreter": {
    "hash": "f49206fcf84a9145e7e21228cbafa911d1ac18292303b01e865d8267a9c448f7"
   }
  }
 },
 "nbformat": 4,
 "nbformat_minor": 2
}
