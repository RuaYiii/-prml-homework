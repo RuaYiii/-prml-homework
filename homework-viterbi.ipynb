{
 "cells": [
  {
   "cell_type": "code",
   "execution_count": 2,
   "metadata": {},
   "outputs": [],
   "source": [
    "#Viterbi 搜索算法\n",
    "import numpy as np\n",
    "A=np.array([[.5,.2,.3],\n",
    "   [.3,.5,.2],\n",
    "   [.2,.3,.5]])\n",
    "# 红 白\n",
    "B=np.array([[.5,.5],\n",
    "    [.4,.6],\n",
    "    [.7,.3]])\n",
    "O=[0,1,0,1]\n",
    "T=len(O)\n",
    "N=3\n",
    "pi=np.array([.2,.4,.4])"
   ]
  },
  {
   "cell_type": "code",
   "execution_count": 4,
   "metadata": {},
   "outputs": [
    {
     "name": "stdout",
     "output_type": "stream",
     "text": [
      "2|2|2|=====分割线=====\n",
      "1|1|2|=====分割线=====\n",
      "0|1|2|=====分割线=====\n"
     ]
    }
   ],
   "source": [
    "#初始化\n",
    "o_1=O[0]\n",
    "delta_i=[pi[i]*B[i,o_1] for i in range(N)]\n",
    "psi_i=[0 for i in range(N)]\n",
    "res_delta=[delta_i]\n",
    "\n",
    "def delata_t(last_dalta,o_t,j):\n",
    "    res_=[]\n",
    "    for i in range(N):\n",
    "        res_.append(last_dalta[i]*A[i,j]*B[j,o_t])\n",
    "    print(np.argmax(res_),end=\"|\")\n",
    "    return max(res_)\n",
    "for i in range(1,T):\n",
    "    o_t=O[i]\n",
    "    last_dalta=res_delta[-1]\n",
    "    res_delta.append([delata_t(last_dalta,o_t,j)for j in range(N)])\n",
    "    print(\"=====分割线=====\")\n"
   ]
  },
  {
   "cell_type": "code",
   "execution_count": null,
   "metadata": {},
   "outputs": [],
   "source": [
    "终止态是s2\n",
    "\n",
    "3 3 3 \n",
    "2 2 3\n",
    "1 2 3 \n",
    "\n",
    "2-2-2-3"
   ]
  },
  {
   "cell_type": "code",
   "execution_count": 5,
   "metadata": {},
   "outputs": [
    {
     "data": {
      "text/plain": [
       "[[0.1, 0.16000000000000003, 0.27999999999999997],\n",
       " [0.027999999999999997, 0.05039999999999999, 0.041999999999999996],\n",
       " [0.007559999999999999, 0.010079999999999999, 0.014699999999999998],\n",
       " [0.0018899999999999998, 0.0030239999999999993, 0.0022049999999999995]]"
      ]
     },
     "execution_count": 5,
     "metadata": {},
     "output_type": "execute_result"
    }
   ],
   "source": [
    "res_delta\n",
    "#回溯\n"
   ]
  }
 ],
 "metadata": {
  "kernelspec": {
   "display_name": "base",
   "language": "python",
   "name": "python3"
  },
  "language_info": {
   "codemirror_mode": {
    "name": "ipython",
    "version": 3
   },
   "file_extension": ".py",
   "mimetype": "text/x-python",
   "name": "python",
   "nbconvert_exporter": "python",
   "pygments_lexer": "ipython3",
   "version": "3.9.16"
  },
  "orig_nbformat": 4
 },
 "nbformat": 4,
 "nbformat_minor": 2
}
