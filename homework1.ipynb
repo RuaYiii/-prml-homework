{
 "cells": [
  {
   "cell_type": "code",
   "execution_count": 3,
   "metadata": {},
   "outputs": [],
   "source": [
    "import numpy as np\n",
    "import pandas as pd"
   ]
  },
  {
   "cell_type": "code",
   "execution_count": 4,
   "metadata": {},
   "outputs": [],
   "source": [
    "id_ls=[i for i in range(1,16)]\n",
    "age_ls=[1,1,1,1,1 ,2,2,2,2,2, 3,3,3,3,3] #1青年2中年3老年\n",
    "work_ls=[0,0,1,1,0, 0,0,1,0,0, 0,0,1,1,0] #1是0否\n",
    "house_ls=[0,0,0,1,0, 0,0,1,1,1, 1,1,0,0,0] #1是0否\n",
    "loan_ls=[1,2,2,1,1, 1,2,2,3,3, 3,2,2,3,1] #1一般，2好，3非常好\n",
    "kind_ls=[0,0,1,1,0, 0,0,1,1,1, 1,1,1,1,0] #1是0否\n",
    "data_set=pd.DataFrame({\"id\":id_ls,\"age\":age_ls,\"work\":work_ls,\"house\":house_ls,\"loan\":loan_ls,\"kind\":kind_ls})"
   ]
  },
  {
   "cell_type": "code",
   "execution_count": 5,
   "metadata": {},
   "outputs": [
    {
     "name": "stdout",
     "output_type": "stream",
     "text": [
      "属性age的增益率为0.05237190142858302\n",
      "属性work的增益率为0.3524465495205019\n",
      "属性house的增益率为0.4325380677663126\n",
      "属性loan的增益率为0.23185388128724224\n"
     ]
    }
   ],
   "source": [
    "def h(k_ls): #计算信息熵\n",
    "    res=0\n",
    "    for i in k_ls:\n",
    "        if i==0 or i==1:\n",
    "            pass\n",
    "        else:\n",
    "            res+=i*np.log2(i)\n",
    "    return -res\n",
    "def h_odds(k_ls,k_odds): #计算条件熵\n",
    "    res=0\n",
    "    for p,p_odd in zip(k_ls,k_odds):\n",
    "        res+=p*h([p_odd,1-p_odd])\n",
    "    return res\n",
    "def count_A(data):\n",
    "    res=[]\n",
    "    sum=data.__len__()\n",
    "    p_sum=(data[\"kind\"]==1).sum()\n",
    "    h_d=h([p_sum/sum,1-p_sum/sum])\n",
    "    for i in data.keys():\n",
    "        p_odd=[]\n",
    "        p_odd_p=[]\n",
    "        if i==\"id\" or i==\"kind\":\n",
    "            pass\n",
    "        else:\n",
    "            A_k=data[i].unique()\n",
    "            for j in A_k:\n",
    "                p_odd.append((data[i]==j).sum()/sum)\n",
    "                _p=(data[data[i]==j][\"kind\"]==1).sum() / (data[i]==j).sum()\n",
    "                p_odd_p.append(_p)\n",
    "            gain_ = h_d - h_odds(p_odd,p_odd_p)\n",
    "            iv_ = h(p_odd)\n",
    "            #print(f\"属性{i}的为{iv_}\")\n",
    "            if(iv_==0): #势必为上个节点\n",
    "                gain_ratio_=0\n",
    "            else:\n",
    "                gain_ratio_ = gain_ / iv_\n",
    "            res.append(gain_ratio_)\n",
    "            #print(\"@\")\n",
    "            print(f\"属性{i}的增益率为{gain_ratio_}\")\n",
    "    return res\n",
    "def max_A(data):\n",
    "    max_a=np.argmax(data)#最大增益率对应的属性\n",
    "    res_ls=[\"age\",\"work\",\"house\",\"loan\"]\n",
    "    return res_ls[max_a]\n",
    "res=count_A(data_set)\n",
    "max_a=max_A(res)#最大增益率对应的属性\n",
    "def split_data(data,max_a):\n",
    "    res_ls=[]\n",
    "    A_k=data[max_a].unique()\n",
    "    for i in A_k:\n",
    "        res=data[data[max_a]==i]\n",
    "        res_ls.append(res)\n",
    "        res_id=res[\"id\"].tolist()\n",
    "        print(f\"@@@划分：{res_id}\")\n",
    "        #测试\n",
    "    return res_ls\n"
   ]
  },
  {
   "cell_type": "code",
   "execution_count": 7,
   "metadata": {},
   "outputs": [
    {
     "name": "stdout",
     "output_type": "stream",
     "text": [
      "@@@划分：[1, 2, 3, 5, 6, 7, 13, 14, 15]\n",
      "@@@划分：[4, 8, 9, 10, 11, 12]\n",
      "===========\n",
      "属性age的增益率为0.1644105252727686\n",
      "属性work的增益率为1.0\n",
      "属性house的增益率为0\n",
      "属性loan的增益率为0.34037448163185724\n",
      "@@@划分：[1, 2, 5, 6, 7, 15]\n",
      "@@@划分：[3, 13, 14]\n",
      "===========\n",
      "===========\n"
     ]
    },
    {
     "data": {
      "text/plain": [
       "1"
      ]
     },
     "execution_count": 7,
     "metadata": {},
     "output_type": "execute_result"
    }
   ],
   "source": [
    "#第一次划分\n",
    "s1=split_data(data_set,max_a)\n",
    "print(\"===========\")\n",
    "#第二次划分\n",
    "s2_1_A=max_A(count_A(s1[0])) #左\n",
    "#s2_2_A=max_A(count_A(s1[1])) #右--为一类\n",
    "s2_1=split_data(s1[0],s2_1_A)  #分支2岔\n",
    "print(\"===========\")\n",
    "#s2_2=split_data(s1[1],s2_2_A) #分支3岔\n",
    "print(\"===========\")\n",
    "#先处理分支2\n",
    "s2_1[0][\"kind\"].unique().size"
   ]
  },
  {
   "cell_type": "code",
   "execution_count": 49,
   "metadata": {},
   "outputs": [
    {
     "name": "stdout",
     "output_type": "stream",
     "text": [
      "年龄的信息增益:0.08300749985576883 | 年龄的信息增益率:0.05237190142858302\n",
      "有工作的信息增益:0.32365019815155627 | 有工作的信息增益率:0.3524465495205019\n",
      "有房子的信息增益:0.4199730940219749 | 有房子的信息增益率:0.4325380677663126\n",
      "有贷款的信息增益:0.17933039572618747 | 有贷款的信息增益率:0.121250756199111\n"
     ]
    }
   ],
   "source": [
    "\n",
    "age=[2/5,3/5,4/5]\n",
    "age_p=[1/3,1/3,1/3]\n",
    "\n",
    "work=[1,4/10]\n",
    "work_p=[1/3,2/3]\n",
    "\n",
    "house=[1,3/9]\n",
    "house_p=[2/5,3/5]\n",
    "\n",
    "loan=[1/5,4/6,1]\n",
    "loan_p=[1/3,3/5,4/15]\n",
    "#print(h(age))\n",
    "k=[9/15,6/15]\n",
    "h_D=h(k)\n",
    "def h_odds(k_ls,k_odds): #计算条件熵\n",
    "    res=0\n",
    "    for p,p_odd in zip(k_ls,k_odds):\n",
    "        res+=p*h([p_odd,1-p_odd])\n",
    "    return res\n",
    "h_D_age=h_odds(age_p,age) #计算年龄的条件熵\n",
    "gain_age=h_D-h_D_age #计算信息增益\n",
    "IV_age=h(age_p)\n",
    "print(f\"年龄的信息增益:{gain_age} | 年龄的信息增益率:{gain_age/IV_age}\")\n",
    "\n",
    "h_D_work=h_odds(work_p,work)\n",
    "gain_work=h_D-h_D_work\n",
    "IV_work=h(work_p)\n",
    "print(f\"有工作的信息增益:{gain_work} | 有工作的信息增益率:{gain_work/IV_work}\")\n",
    "\n",
    "h_D_house=h_odds(house_p,house)\n",
    "gain_house=h_D-h_D_house\n",
    "IV_house=h(house_p)\n",
    "print(f\"有房子的信息增益:{gain_house} | 有房子的信息增益率:{gain_house/IV_house}\")\n",
    "\n",
    "h_D_loan=h_odds(loan_p,loan)\n",
    "gain_loan=h_D-h_D_loan\n",
    "IV_loan=h(loan_p)\n",
    "print(f\"有贷款的信息增益:{gain_loan} | 有贷款的信息增益率:{gain_loan/IV_loan}\")"
   ]
  },
  {
   "cell_type": "code",
   "execution_count": 9,
   "metadata": {},
   "outputs": [
    {
     "data": {
      "text/html": [
       "<div>\n",
       "<style scoped>\n",
       "    .dataframe tbody tr th:only-of-type {\n",
       "        vertical-align: middle;\n",
       "    }\n",
       "\n",
       "    .dataframe tbody tr th {\n",
       "        vertical-align: top;\n",
       "    }\n",
       "\n",
       "    .dataframe thead th {\n",
       "        text-align: right;\n",
       "    }\n",
       "</style>\n",
       "<table border=\"1\" class=\"dataframe\">\n",
       "  <thead>\n",
       "    <tr style=\"text-align: right;\">\n",
       "      <th></th>\n",
       "      <th>x</th>\n",
       "      <th>y</th>\n",
       "    </tr>\n",
       "  </thead>\n",
       "  <tbody>\n",
       "    <tr>\n",
       "      <th>0</th>\n",
       "      <td>1</td>\n",
       "      <td>4.50</td>\n",
       "    </tr>\n",
       "    <tr>\n",
       "      <th>1</th>\n",
       "      <td>2</td>\n",
       "      <td>4.75</td>\n",
       "    </tr>\n",
       "    <tr>\n",
       "      <th>2</th>\n",
       "      <td>3</td>\n",
       "      <td>4.91</td>\n",
       "    </tr>\n",
       "    <tr>\n",
       "      <th>3</th>\n",
       "      <td>4</td>\n",
       "      <td>5.34</td>\n",
       "    </tr>\n",
       "    <tr>\n",
       "      <th>4</th>\n",
       "      <td>5</td>\n",
       "      <td>5.80</td>\n",
       "    </tr>\n",
       "    <tr>\n",
       "      <th>5</th>\n",
       "      <td>6</td>\n",
       "      <td>7.05</td>\n",
       "    </tr>\n",
       "    <tr>\n",
       "      <th>6</th>\n",
       "      <td>7</td>\n",
       "      <td>7.90</td>\n",
       "    </tr>\n",
       "    <tr>\n",
       "      <th>7</th>\n",
       "      <td>8</td>\n",
       "      <td>8.23</td>\n",
       "    </tr>\n",
       "    <tr>\n",
       "      <th>8</th>\n",
       "      <td>9</td>\n",
       "      <td>8.70</td>\n",
       "    </tr>\n",
       "    <tr>\n",
       "      <th>9</th>\n",
       "      <td>10</td>\n",
       "      <td>9.00</td>\n",
       "    </tr>\n",
       "  </tbody>\n",
       "</table>\n",
       "</div>"
      ],
      "text/plain": [
       "    x     y\n",
       "0   1  4.50\n",
       "1   2  4.75\n",
       "2   3  4.91\n",
       "3   4  5.34\n",
       "4   5  5.80\n",
       "5   6  7.05\n",
       "6   7  7.90\n",
       "7   8  8.23\n",
       "8   9  8.70\n",
       "9  10  9.00"
      ]
     },
     "execution_count": 9,
     "metadata": {},
     "output_type": "execute_result"
    }
   ],
   "source": [
    "x=[i for i in range(1,11)]\n",
    "y=[4.50, 4.75, 4.91, 5.34, 5.80, 7.05 ,7.90, 8.23, 8.70, 9.00]\n",
    "data_set=pd.DataFrame({\"x\":x,\"y\":y})\n",
    "data_set"
   ]
  },
  {
   "cell_type": "code",
   "execution_count": 20,
   "metadata": {},
   "outputs": [
    {
     "name": "stdout",
     "output_type": "stream",
     "text": [
      "1:mse：22.647999999999996\n",
      "2:mse：17.7022375\n",
      "3:mse：12.193485714285714\n",
      "4:mse：7.3787\n",
      "5:mse：3.358719999999999\n",
      "6:mse：5.073958333333332\n",
      "7:mse：10.052466666666668\n",
      "8:mse：15.177800000000005\n",
      "9:mse：21.328\n",
      "10:mse：27.63236\n",
      "===========\n",
      "1:mse：22.647999999999996\n",
      "2:mse：17.7022375\n",
      "3:mse：12.193485714285714\n",
      "4:mse：7.3787\n",
      "5:mse：3.358719999999999\n",
      "6:mse：5.073958333333332\n",
      "7:mse：10.052466666666668\n",
      "8:mse：15.177800000000005\n",
      "9:mse：21.328\n",
      "10:mse：27.63236\n",
      "最佳划分点为 5\n"
     ]
    }
   ],
   "source": [
    "def mse(data,s):\n",
    "    data1=data[data[\"x\"]<=s]\n",
    "    data2=data[data[\"x\"]>s]\n",
    "    res=0\n",
    "    c1= data1[\"y\"].sum()/data1[\"y\"].size #均值\n",
    "    if data2[\"y\"].size==0:\n",
    "        c2=0\n",
    "    else:\n",
    "        c2= data2[\"y\"].sum()/data2[\"y\"].size\n",
    "    for i in data1[\"y\"]:\n",
    "        res+=(i-c1)**2\n",
    "    for i in data2[\"y\"]:\n",
    "        res+=(i-c2)**2\n",
    "    #print(pd.DataFrame([c1,c2]))\n",
    "    print(f\"{s}:mse：{res}\")\n",
    "    return res\n",
    "res_=[]\n",
    "for i in data_set[\"x\"]:\n",
    "    mse_res=mse(data_set,i)\n",
    "    #print(mse_res,end=\" | \")\n",
    "    res_.append(mse_res)\n",
    "\n",
    "def mse_clip(data):\n",
    "    res_=[]\n",
    "    for i in data[\"x\"]:\n",
    "        mse_res=mse(data,i)\n",
    "        res_.append(mse_res)\n",
    "    ans=np.argmin(res_)\n",
    "    ans_= data[\"x\"].tolist()[ans] \n",
    "    print(\"最佳划分点为\",ans_)\n",
    "    d1=data[data[\"x\"]<=ans_]\n",
    "    d2=data[data[\"x\"]>ans_]\n",
    "    return d1,d2\n",
    "print(\"===========\")\n",
    "d1,d2=mse_clip(data_set)\n",
    "#显然，取5的时候，mse最小，为最佳划分点"
   ]
  },
  {
   "cell_type": "code",
   "execution_count": 23,
   "metadata": {},
   "outputs": [
    {
     "name": "stdout",
     "output_type": "stream",
     "text": [
      "第一次划分结果 [1, 2, 3, 4, 5] 和 [6, 7, 8, 9, 10]\n",
      "对d1进行划分\n",
      "1:mse：0.6661999999999997\n",
      "2:mse：0.4274499999999997\n",
      "3:mse：0.19120000000000004\n",
      "4:mse：0.37369999999999987\n",
      "5:mse：1.0581999999999996\n",
      "最佳划分点为 3\n",
      "d1划分结果: [1, 2, 3] 和 [4, 5]\n",
      "===========\n",
      "对d1_1进行划分\n",
      "1:mse：0.012800000000000023\n",
      "2:mse：0.03125\n",
      "3:mse：0.08540000000000005\n",
      "最佳划分点为 1\n",
      "d1_1划分结果: [1] 和 [2, 3]\n",
      "@@@d1_1_1划分结束\n",
      "===========\n",
      "对d1_1_2进行划分\n",
      "2:mse：0.0\n",
      "3:mse：0.012800000000000023\n",
      "最佳划分点为 2\n",
      "d1_1_2划分结果: [2] 和 [3]\n",
      "@@@@d1_1_2划分结束\n",
      "===========\n",
      "对d2进行划分\n",
      "6:mse：0.7156749999999991\n",
      "7:mse：0.6625166666666666\n",
      "8:mse：0.7862666666666676\n",
      "9:mse：1.4517999999999995\n",
      "10:mse：2.3005199999999992\n",
      "最佳划分点为 7\n",
      "d2划分结果: [6, 7] 和 [8, 9, 10]\n",
      "===========\n",
      "对d1_2进行划分\n",
      "4:mse：0.0\n",
      "5:mse：0.10579999999999998\n",
      "最佳划分点为 4\n",
      "d1_2划分结果: [4] 和 [5]\n",
      "@@@@d1_2划分结束\n",
      "===========\n"
     ]
    }
   ],
   "source": [
    "print(\"第一次划分结果\",d1[\"x\"].to_list(),\"和\",d2[\"x\"].to_list())\n",
    "print(\"对d1进行划分\")\n",
    "d1_1,d1_2=mse_clip(d1)\n",
    "print(\"d1划分结果:\",d1_1[\"x\"].to_list(),\"和\",d1_2[\"x\"].to_list())\n",
    "print(\"===========\")\n",
    "print(\"对d1_1进行划分\")\n",
    "d1_1_1,d1_1_2=mse_clip(d1_1)\n",
    "print(\"d1_1划分结果:\",d1_1_1[\"x\"].to_list(),\"和\",d1_1_2[\"x\"].to_list())\n",
    "print(\"@@@d1_1_1划分结束\")\n"
   ]
  },
  {
   "cell_type": "code",
   "execution_count": 24,
   "metadata": {},
   "outputs": [
    {
     "name": "stdout",
     "output_type": "stream",
     "text": [
      "===========\n",
      "对d1_1_2进行划分\n",
      "2:mse：0.0\n",
      "3:mse：0.012800000000000023\n",
      "最佳划分点为 2\n",
      "d1_1_2划分结果: [2] 和 [3]\n",
      "@@@@d1_1_2划分结束\n",
      "===========\n",
      "对d2进行划分\n",
      "6:mse：0.7156749999999991\n",
      "7:mse：0.6625166666666666\n",
      "8:mse：0.7862666666666676\n",
      "9:mse：1.4517999999999995\n",
      "10:mse：2.3005199999999992\n",
      "最佳划分点为 7\n",
      "d2划分结果: [6, 7] 和 [8, 9, 10]\n",
      "===========\n",
      "对d1_2进行划分\n",
      "4:mse：0.0\n",
      "5:mse：0.10579999999999998\n",
      "最佳划分点为 4\n",
      "d1_2划分结果: [4] 和 [5]\n",
      "@@@@d1_2划分结束\n",
      "===========\n"
     ]
    }
   ],
   "source": [
    "print(\"===========\")\n",
    "print(\"对d1_1_2进行划分\")\n",
    "d1_1_2_1,d1_1_2_2=mse_clip(d1_1_2)\n",
    "print(\"d1_1_2划分结果:\",d1_1_2_1[\"x\"].to_list(),\"和\",d1_1_2_2[\"x\"].to_list())\n",
    "print(\"@@@@d1_1_2划分结束\")\n",
    "print(\"===========\")\n",
    "print(\"对d2进行划分\")\n",
    "d2_1,d2_2=mse_clip(d2)\n",
    "print(\"d2划分结果:\",d2_1[\"x\"].to_list(),\"和\",d2_2[\"x\"].to_list())\n",
    "print(\"===========\")\n",
    "print(\"对d1_2进行划分\")\n",
    "d1_2_1,d1_2_2=mse_clip(d1_2)\n",
    "print(\"d1_2划分结果:\",d1_2_1[\"x\"].to_list(),\"和\",d1_2_2[\"x\"].to_list())\n",
    "print(\"@@@@d1_2划分结束\")\n",
    "print(\"===========\")"
   ]
  },
  {
   "cell_type": "code",
   "execution_count": 22,
   "metadata": {},
   "outputs": [
    {
     "name": "stdout",
     "output_type": "stream",
     "text": [
      "对d2_1进行划分\n",
      "6:mse：0.0\n",
      "7:mse：0.3612500000000004\n",
      "最佳划分点为 6\n",
      "d2_1划分结果: [6] 和 [7]\n",
      "@@@@d2_1划分结束\n",
      "===========\n",
      "对d2_2进行划分\n",
      "8:mse：0.04500000000000021\n",
      "9:mse：0.11044999999999947\n",
      "10:mse：0.30126666666666624\n",
      "最佳划分点为 8\n",
      "d2_2划分结果: [8] 和 [9, 10]\n",
      "!!!到这里其实就很显然了\n"
     ]
    }
   ],
   "source": [
    "\n",
    "print(\"对d2_1进行划分\")\n",
    "d2_1_1,d2_1_2=mse_clip(d2_1)\n",
    "print(\"d2_1划分结果:\",d2_1_1[\"x\"].to_list(),\"和\",d2_1_2[\"x\"].to_list())\n",
    "print(\"@@@@d2_1划分结束\")\n",
    "print(\"===========\")\n",
    "print(\"对d2_2进行划分\")\n",
    "d2_2_1,d2_2_2=mse_clip(d2_2)\n",
    "print(\"d2_2划分结果:\",d2_2_1[\"x\"].to_list(),\"和\",d2_2_2[\"x\"].to_list())\n",
    "print(\"!!!到这里其实就很显然了\")"
   ]
  }
 ],
 "metadata": {
  "kernelspec": {
   "display_name": "base",
   "language": "python",
   "name": "python3"
  },
  "language_info": {
   "codemirror_mode": {
    "name": "ipython",
    "version": 3
   },
   "file_extension": ".py",
   "mimetype": "text/x-python",
   "name": "python",
   "nbconvert_exporter": "python",
   "pygments_lexer": "ipython3",
   "version": "3.9.16"
  },
  "orig_nbformat": 4,
  "vscode": {
   "interpreter": {
    "hash": "f49206fcf84a9145e7e21228cbafa911d1ac18292303b01e865d8267a9c448f7"
   }
  }
 },
 "nbformat": 4,
 "nbformat_minor": 2
}
