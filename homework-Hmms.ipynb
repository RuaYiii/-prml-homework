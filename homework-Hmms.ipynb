{
 "cells": [
  {
   "cell_type": "code",
   "execution_count": 29,
   "metadata": {},
   "outputs": [],
   "source": [
    "import numpy as np\n",
    "#隐含马尔可夫链\n",
    "A=np.array([[.5,.1,.4],\n",
    "   [.3,.5,.2],\n",
    "   [.2,.2,.6]])\n",
    "# 红 白\n",
    "B=np.array([[.5,.5],\n",
    "    [.4,.6],\n",
    "    [.7,.3]])\n",
    "O=[0,1,0,0,1,0,1,1]\n",
    "T=len(O)\n",
    "s_num=3\n",
    "pi=np.array([.2,.3,.5])"
   ]
  },
  {
   "cell_type": "code",
   "execution_count": 30,
   "metadata": {},
   "outputs": [
    {
     "data": {
      "text/plain": [
       "0.0018668254527215997"
      ]
     },
     "execution_count": 30,
     "metadata": {},
     "output_type": "execute_result"
    }
   ],
   "source": [
    "#向前算法\n",
    "res_a=[]\n",
    "o_1=O[0]\n",
    "a_1=[pi[i]*B[i,o_1] for i in range(s_num)]\n",
    "res_a.append(a_1)\n",
    "def _a_i(j,o,last_a):\n",
    "    res_=0\n",
    "    for i in range(s_num):\n",
    "\n",
    "        res_+= A[i,j]*last_a[i]\n",
    "\n",
    "    return res_*B[j,o]\n",
    "\n",
    "\n",
    "\n",
    "for i in range(1,T): #循环计算\n",
    "    o_i=O[i]\n",
    "    if i==3: #到达q4\n",
    "        a_i=[0,0,_a_i(2,o_i,res_a[i-1])]\n",
    "        res_a.append(a_i)\n",
    "    else: \n",
    "        a_i=[_a_i(j,o_i,res_a[i-1]) for j in range(s_num)]\n",
    "        res_a.append(a_i)\n",
    "\n",
    "\n",
    "\n",
    "sum(res_a[-1]) #整个事件\n"
   ]
  },
  {
   "cell_type": "code",
   "execution_count": 33,
   "metadata": {},
   "outputs": [
    {
     "data": {
      "text/plain": [
       "[[0.1, 0.12, 0.35],\n",
       " [0.07799999999999999, 0.084, 0.08220000000000001],\n",
       " [0.040319999999999995, 0.026496000000000006, 0.068124],\n",
       " [0, 0, 0.043611119999999996],\n",
       " [0.0043611119999999995, 0.005233334399999999, 0.0078500016],\n",
       " [0.00266027832, 0.001849111488, 0.005250778847999999],\n",
       " [0.001467514188, 0.00134444360736, 0.0013753202803199998],\n",
       " [0.000706077116136, 0.0006564223671264, 0.0005043259694591999],\n",
       " [0.07799999999999999, 0.084, 0.08220000000000001],\n",
       " [0.040319999999999995, 0.026496000000000006, 0.068124],\n",
       " [0.020866799999999998, 0.012361920000000002, 0.043611119999999996],\n",
       " [0.0043611119999999995, 0.005233334399999999, 0.0078500016],\n",
       " [0.00266027832, 0.001849111488, 0.005250778847999999],\n",
       " [0.001467514188, 0.00134444360736, 0.0013753202803199998],\n",
       " [0.000706077116136, 0.0006564223671264, 0.0005043259694591999]]"
      ]
     },
     "execution_count": 33,
     "metadata": {},
     "output_type": "execute_result"
    }
   ],
   "source": [
    "res_a"
   ]
  },
  {
   "cell_type": "code",
   "execution_count": 32,
   "metadata": {},
   "outputs": [],
   "source": [
    "for i in range(1,T): #循环计算\n",
    "    o_i=O[i]\n",
    "    a_i=[_a_i(j,o_i,res_a[i-1]) for j in range(s_num)]\n",
    "    res_a.append(a_i)\n"
   ]
  },
  {
   "cell_type": "code",
   "execution_count": 31,
   "metadata": {},
   "outputs": [
    {
     "data": {
      "text/plain": [
       "[[0.1, 0.12, 0.35],\n",
       " [0.07799999999999999, 0.084, 0.08220000000000001],\n",
       " [0.040319999999999995, 0.026496000000000006, 0.068124],\n",
       " [0, 0, 0.043611119999999996],\n",
       " [0.0043611119999999995, 0.005233334399999999, 0.0078500016],\n",
       " [0.00266027832, 0.001849111488, 0.005250778847999999],\n",
       " [0.001467514188, 0.00134444360736, 0.0013753202803199998],\n",
       " [0.000706077116136, 0.0006564223671264, 0.0005043259694591999]]"
      ]
     },
     "execution_count": 31,
     "metadata": {},
     "output_type": "execute_result"
    }
   ],
   "source": [
    "res_a"
   ]
  },
  {
   "cell_type": "code",
   "execution_count": null,
   "metadata": {},
   "outputs": [],
   "source": []
  }
 ],
 "metadata": {
  "kernelspec": {
   "display_name": "base",
   "language": "python",
   "name": "python3"
  },
  "language_info": {
   "codemirror_mode": {
    "name": "ipython",
    "version": 3
   },
   "file_extension": ".py",
   "mimetype": "text/x-python",
   "name": "python",
   "nbconvert_exporter": "python",
   "pygments_lexer": "ipython3",
   "version": "3.9.16"
  },
  "orig_nbformat": 4
 },
 "nbformat": 4,
 "nbformat_minor": 2
}
