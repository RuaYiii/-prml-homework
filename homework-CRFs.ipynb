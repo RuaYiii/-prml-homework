{
 "cells": [
  {
   "cell_type": "code",
   "execution_count": 2,
   "metadata": {},
   "outputs": [],
   "source": [
    "import numpy as np\n",
    "M1 = [[0, 0], [0.5, 0.5]]\n",
    "M2 = [[0.3, 0.7], [0.7, 0.3]]\n",
    "M3 = [[0.5, 0.5], [0.6, 0.4]]\n",
    "M4 = [[0, 1], [0, 1]]\n",
    "M = [M1, M2, M3, M4] "
   ]
  },
  {
   "cell_type": "code",
   "execution_count": 6,
   "metadata": {},
   "outputs": [],
   "source": [
    "#路径从2开始\n",
    "ls_path = [2]\n",
    "for i in range(1, 4): #遍历出所有的组合\n",
    "    paths = []\n",
    "    for _, r in enumerate(ls_path):\n",
    "        temp = np.transpose(r)\n",
    "        paths.append(np.append(temp, 1))\n",
    "        paths.append(np.append(temp, 2))\n",
    "    ls_path = paths.copy()\n",
    "ls_path = [np.append(r, 2) for _, r in enumerate(ls_path)]\n"
   ]
  },
  {
   "cell_type": "code",
   "execution_count": 7,
   "metadata": {},
   "outputs": [
    {
     "data": {
      "text/plain": [
       "[array([2, 1, 1, 1, 2]),\n",
       " array([2, 1, 1, 2, 2]),\n",
       " array([2, 1, 2, 1, 2]),\n",
       " array([2, 1, 2, 2, 2]),\n",
       " array([2, 2, 1, 1, 2]),\n",
       " array([2, 2, 1, 2, 2]),\n",
       " array([2, 2, 2, 1, 2]),\n",
       " array([2, 2, 2, 2, 2])]"
      ]
     },
     "execution_count": 7,
     "metadata": {},
     "output_type": "execute_result"
    }
   ],
   "source": [
    "ls_path #路径如下"
   ]
  },
  {
   "cell_type": "code",
   "execution_count": 10,
   "metadata": {},
   "outputs": [
    {
     "name": "stdout",
     "output_type": "stream",
     "text": [
      "@@@2->1->1->1->2 概率为0.075\n",
      "@@@2->1->1->2->2 概率为0.075\n",
      "@@@2->1->2->1->2 概率为0.21\n",
      "@@@2->1->2->2->2 概率为0.13999999999999999\n",
      "@@@2->2->1->1->2 概率为0.175\n",
      "@@@2->2->1->2->2 概率为0.175\n",
      "@@@2->2->2->1->2 概率为0.09\n",
      "@@@2->2->2->2->2 概率为0.06\n"
     ]
    }
   ],
   "source": [
    "pr = []\n",
    "for row in ls_path:\n",
    "    p = 1\n",
    "    for i in range(len(row) - 1): #计算概率\n",
    "        a = row[i]\n",
    "        b = row[i + 1]\n",
    "        p *= M[i][a - 1][b - 1]\n",
    "    print(\"@@@\" + \"->\".join([str(x) for x in row.tolist()]), end=\"||\")\n",
    "    print(f\"概率为{p}\")\n",
    "    pr.append((row.tolist(), p))\n",
    "pr = sorted(pr, key=lambda x: x[1], reverse=True)\n"
   ]
  }
 ],
 "metadata": {
  "kernelspec": {
   "display_name": "base",
   "language": "python",
   "name": "python3"
  },
  "language_info": {
   "codemirror_mode": {
    "name": "ipython",
    "version": 3
   },
   "file_extension": ".py",
   "mimetype": "text/x-python",
   "name": "python",
   "nbconvert_exporter": "python",
   "pygments_lexer": "ipython3",
   "version": "3.9.16"
  },
  "orig_nbformat": 4
 },
 "nbformat": 4,
 "nbformat_minor": 2
}
